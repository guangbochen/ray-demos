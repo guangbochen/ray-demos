{
 "cells": [
  {
   "cell_type": "markdown",
   "id": "a14cab54",
   "metadata": {},
   "source": [
    "# Ray Core: Sampling via Remote Tasks\n",
    "\n",
    "© 2019-2023, Anyscale. All Rights Reserved"
   ]
  },
  {
   "cell_type": "code",
   "execution_count": null,
   "id": "2f3633ea-6bbb-49b6-b2a6-0af57154ebff",
   "metadata": {},
   "outputs": [],
   "source": [
    "import os\n",
    "import time\n",
    "import logging\n",
    "import math\n",
    "import random\n",
    "\n",
    "from pathlib import Path\n",
    "from typing import Tuple, List\n",
    "\n",
    "import numpy as np\n",
    "import pandas as pd\n",
    "import pyarrow.parquet as pq\n",
    "import tqdm\n",
    "import ray"
   ]
  },
  {
   "cell_type": "code",
   "execution_count": null,
   "id": "f4e13ff9-5264-40e4-9199-a7be033d3591",
   "metadata": {},
   "outputs": [],
   "source": [
    "if ray.is_initialized:\n",
    "    ray.shutdown()\n",
    "ray.init()"
   ]
  },
  {
   "cell_type": "markdown",
   "id": "9ea4b7d2-2ceb-4a87-9a7b-3945f15f7d0a",
   "metadata": {},
   "source": [
    "## Monte Carlo simulation of estimating π\n",
    "\n",
    "Let's estimate the value of π using a [Monte Carlo](https://en.wikipedia.org/wiki/Monte_Carlo_method) method. We randomly sample points within a 2x2 square. We can use the proportion of the points that are contained within the unit circle centered at the origin to estimate the ratio of the area of the circle to the area of the square. \n",
    "\n",
    "Given we know that the true ratio to be π/4, we can multiply our estimated ratio by 4 to approximate the value of π. The more points that we sample to calculate this approximation, the closer we get to true value of π to required decimal points.\n",
    "\n",
    "|<img src=\"https://technical-training-assets.s3.us-west-2.amazonaws.com/Ray_Core/monte_carlo_pi.png\" width=\"80%\" height=\"80%\">|\n",
    "|:--|\n",
    "|Estimating the value of π by sampling random points that fall into the circle.|"
   ]
  },
  {
   "cell_type": "code",
   "execution_count": null,
   "id": "373b1b0b-7ecd-4642-96e3-bcd8724172a5",
   "metadata": {},
   "outputs": [],
   "source": [
    "# Change this to match your cluster scale.\n",
    "NUM_SAMPLING_TASKS = os.cpu_count()\n",
    "NUM_SAMPLES_PER_TASK = 10_000_000\n",
    "TOTAL_NUM_SAMPLES = NUM_SAMPLING_TASKS * NUM_SAMPLES_PER_TASK"
   ]
  },
  {
   "cell_type": "markdown",
   "id": "ba80a46c-af65-4a0c-8078-371ef9e17c72",
   "metadata": {},
   "source": [
    "Define a regular function that computes the number of samples\n",
    "in the circle. This is done by randomly sampling `num_samples` for\n",
    "x, y between a uniform value of (-1, 1). Using the [math.hypot](https://docs.python.org/3/library/math.html#math.hypot) function, we\n",
    "compute if it falls within the circle."
   ]
  },
  {
   "cell_type": "code",
   "execution_count": null,
   "id": "c9846144-36cd-43d6-a465-1bfd686398bf",
   "metadata": {},
   "outputs": [],
   "source": [
    "def sampling_task(num_samples: int, task_id: int, verbose=True) -> int:\n",
    "    num_inside = 0\n",
    "    for i in range(num_samples):\n",
    "        x, y = random.uniform(-1, 1), random.uniform(-1, 1)\n",
    "        # check if the point is inside the circle\n",
    "        if math.hypot(x, y) <= 1:\n",
    "            num_inside += 1\n",
    "    if verbose:\n",
    "        print(f\"Task id: {task_id} | Samples in the circle: {num_inside}\")\n",
    "    return num_inside"
   ]
  },
  {
   "cell_type": "markdown",
   "id": "85c5b9d5-2aa7-4abe-aea5-15aa748cd055",
   "metadata": {},
   "source": [
    "Define a function to run this serially, by launcing `NUM_SAMPLING_TASKS` serial tasks in a comprehension list."
   ]
  },
  {
   "cell_type": "code",
   "execution_count": null,
   "id": "8ca8fe02-a7a4-4522-a2dd-cc57c471bce6",
   "metadata": {},
   "outputs": [],
   "source": [
    "def run_serial(sample_size) -> List[int]:\n",
    "    results = [sampling_task(sample_size, i+1) for i in range(NUM_SAMPLING_TASKS)]\n",
    "    return results"
   ]
  },
  {
   "cell_type": "markdown",
   "id": "9d195094-5c50-40ce-8640-38749acb7d18",
   "metadata": {},
   "source": [
    "Define a function to run this as a remote Ray task, which invokes our sampling function, but since it's decorated\n",
    "with `@ray.remote`, the task will run on a worker process, tied to a core, on the Ray cluster."
   ]
  },
  {
   "cell_type": "code",
   "execution_count": null,
   "id": "964a3647-318d-4395-bedc-fa1d825cda4c",
   "metadata": {},
   "outputs": [],
   "source": [
    "@ray.remote\n",
    "def sample_task_distribute(sample_size, i) -> object:\n",
    "    return sampling_task(sample_size, i)\n"
   ]
  },
  {
   "cell_type": "code",
   "execution_count": null,
   "id": "b0369350-0b0a-4486-9710-db89dccddf31",
   "metadata": {},
   "outputs": [],
   "source": [
    "def run_disributed(sample_size) -> List[int]:\n",
    "    # Launch Ray remote tasks in a comprehension list, each returns immediately with a future ObjectRef \n",
    "    # Use ray.get to fetch the computed value; this will block until the ObjectRef is resolved or its value is materialized.\n",
    "    results = ray.get([\n",
    "            sample_task_distribute.remote(sample_size, i+1) for i in range(NUM_SAMPLING_TASKS)\n",
    "        ])\n",
    "    return results"
   ]
  },
  {
   "cell_type": "markdown",
   "id": "2b0c52ce-348f-4239-a9e3-e9802e56e6ad",
   "metadata": {},
   "source": [
    "Define a function to calculate the value of π by getting all number of samples inside the circle from the sampling tasks and calculate π."
   ]
  },
  {
   "cell_type": "code",
   "execution_count": null,
   "id": "b94e50ae-0a0f-4c9e-9d8c-9220b04560d4",
   "metadata": {},
   "outputs": [],
   "source": [
    "def calculate_pi(results: List[int]) -> float:\n",
    "    total_num_inside = sum(results)\n",
    "    pi = (total_num_inside * 4) / TOTAL_NUM_SAMPLES\n",
    "    return pi"
   ]
  },
  {
   "cell_type": "markdown",
   "id": "aa9969a3-8f3d-4fae-9dc4-c4c2340316ab",
   "metadata": {},
   "source": [
    "### Run calculating π serially"
   ]
  },
  {
   "cell_type": "code",
   "execution_count": null,
   "id": "1fe8858c-d292-468d-a78a-5aa9e8749721",
   "metadata": {},
   "outputs": [],
   "source": [
    "print(f\"Running {NUM_SAMPLING_TASKS} tasks serially....\")"
   ]
  },
  {
   "cell_type": "code",
   "execution_count": null,
   "id": "9fdfd4fb-c4e1-474a-9304-c927eab90471",
   "metadata": {},
   "outputs": [],
   "source": [
    "%%time\n",
    "results = run_serial(NUM_SAMPLES_PER_TASK)\n",
    "pi = calculate_pi(results)"
   ]
  },
  {
   "cell_type": "code",
   "execution_count": null,
   "id": "c37f6540-982e-430e-a97d-8c3a67e2074d",
   "metadata": {},
   "outputs": [],
   "source": [
    "print(f\"Estimated value of π is: {pi:5f}\")"
   ]
  },
  {
   "cell_type": "markdown",
   "id": "31c021f9-1f67-483b-91e6-5d0afbf5319a",
   "metadata": {},
   "source": [
    "### Run calculating π with Ray distributed tasks"
   ]
  },
  {
   "cell_type": "code",
   "execution_count": null,
   "id": "c199b3ce-cfa2-4395-807c-7e67726b12ac",
   "metadata": {},
   "outputs": [],
   "source": [
    "%%time\n",
    "results = run_disributed(NUM_SAMPLES_PER_TASK)\n",
    "pi = calculate_pi(results)"
   ]
  },
  {
   "cell_type": "code",
   "execution_count": null,
   "id": "a6714a1a-5794-43bb-916b-7881ac02d27d",
   "metadata": {},
   "outputs": [],
   "source": [
    "print(f\"Estimated value of π is: {pi:5f}\")"
   ]
  },
  {
   "cell_type": "markdown",
   "id": "ed990f02-1fa6-4541-a0ed-27e5e4073027",
   "metadata": {},
   "source": [
    "### Recap\n",
    "With Ray, we see an a speed up 🚅 of **~7X**. \n",
    "But what if we decrease the number of samples? Do we get an accurate represenation of π? Try it for yourself. "
   ]
  },
  {
   "cell_type": "markdown",
   "id": "08f363a1",
   "metadata": {},
   "source": [
    "### References\n",
    "\n",
    "1. [Modern Parallel and Distributed Python: A Quick Tutorial on Ray](https://towardsdatascience.com/modern-parallel-and-distributed-python-a-quick-tutorial-on-ray-99f8d70369b8) by Robert Nishihara, co-creator of Ray and co-founder Anyscale\n",
    "2. [Ray Core Introduction](https://www.anyscale.com/events/2022/02/03/introduction-to-ray-core-and-its-ecosystem) by Jules S. Damji"
   ]
  }
 ],
 "metadata": {
  "kernelspec": {
   "display_name": "Python 3 (ipykernel)",
   "language": "python",
   "name": "python3"
  },
  "language_info": {
   "codemirror_mode": {
    "name": "ipython",
    "version": 3
   },
   "file_extension": ".py",
   "mimetype": "text/x-python",
   "name": "python",
   "nbconvert_exporter": "python",
   "pygments_lexer": "ipython3",
   "version": "3.9.16"
  }
 },
 "nbformat": 4,
 "nbformat_minor": 5
}
